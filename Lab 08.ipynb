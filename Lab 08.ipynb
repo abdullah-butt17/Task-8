{
 "cells": [
  {
   "cell_type": "code",
   "execution_count": 52,
   "metadata": {},
   "outputs": [
    {
     "name": "stdout",
     "output_type": "stream",
     "text": [
      "Name: Abdullah Age: 23,Employee Id: 42314 Position: HR, Department: IT\n",
      "----Record saved---\n"
     ]
    }
   ],
   "source": [
    "class Person:\n",
    "    def __init__(self,name,age):\n",
    "        self.name=name\n",
    "        self.age=age\n",
    "    def display_info(self):\n",
    "        return f\"Name: {self.name} Age: {self.age}\"\n",
    "\n",
    "class Employee:\n",
    "    def __init__(self,employee_id,position):\n",
    "        self.employee_id=employee_id\n",
    "        self.position=position\n",
    "    def display_info(self):\n",
    "        return f\"Employee Id: {self.employee_id} Position: {self.position}\"\n",
    "\n",
    "class Staff(Person,Employee):\n",
    "    def __init__(self, name, age,employee_id,position,department):\n",
    "        Employee.__init__(self, employee_id,position)\n",
    "        Person.__init__(self, name, age)\n",
    "        self.department=department\n",
    "    def Additional_info(self):\n",
    "        return f\" Department: {self.department}\"\n",
    "    \n",
    "    def display_detail(self):\n",
    "        person_detail=Person.display_info(self)\n",
    "        employee_detail=Employee.display_info(self)\n",
    "        department_detail=Staff.Additional_info(self)\n",
    "        return f\"{person_detail},{employee_detail},{department_detail}\"\n",
    "\n",
    "detail=Staff(\"Abdullah\",23,42314,\"HR\",\"IT\")\n",
    "print(detail.display_detail())\n",
    "\n",
    "import csv\n",
    "with open(\"staff_details.csv\",'w',newline=\"\") as file:\n",
    "    writer=csv.writer(file)\n",
    "    writer.writerow([\" \"+\"name\"+\"    \"+\"   \"+\"Age\"+\"           \"+\"Employee ID\"+\" \"+\"Position\"+\" \"+\"Department\"])\n",
    "    writer.writerow([\" \"+detail.name+\"   \"+\" \"+str(detail.age)+\"    \"+str(detail.employee_id)+\"    \"+str(detail.position)+\"    \"+str(detail.department)])\n",
    "    print(\"----Record saved---\")\n",
    "\n",
    "   "
   ]
  },
  {
   "cell_type": "code",
   "execution_count": null,
   "metadata": {},
   "outputs": [],
   "source": []
  }
 ],
 "metadata": {
  "kernelspec": {
   "display_name": "Python 3",
   "language": "python",
   "name": "python3"
  },
  "language_info": {
   "codemirror_mode": {
    "name": "ipython",
    "version": 3
   },
   "file_extension": ".py",
   "mimetype": "text/x-python",
   "name": "python",
   "nbconvert_exporter": "python",
   "pygments_lexer": "ipython3",
   "version": "3.12.2"
  }
 },
 "nbformat": 4,
 "nbformat_minor": 2
}
